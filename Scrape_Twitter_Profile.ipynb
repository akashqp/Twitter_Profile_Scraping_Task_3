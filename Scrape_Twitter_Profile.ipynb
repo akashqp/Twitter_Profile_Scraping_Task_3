{
 "cells": [
  {
   "cell_type": "code",
   "execution_count": 1,
   "id": "55914ea4",
   "metadata": {},
   "outputs": [],
   "source": [
    "# Importing the necessary librarires\n",
    "import time\n",
    "import pandas as pd\n",
    "import csv\n",
    "from selenium import webdriver\n",
    "from selenium.webdriver.chrome.service import Service\n",
    "from selenium.webdriver.common.by import By\n",
    "from selenium.webdriver.chrome.options import Options\n",
    "from webdriver_manager.chrome import ChromeDriverManager\n",
    "from selenium.common.exceptions import NoSuchElementException\n",
    "import mysql.connector\n",
    "from mysql.connector import Error"
   ]
  },
  {
   "cell_type": "code",
   "execution_count": 2,
   "id": "9333c899",
   "metadata": {},
   "outputs": [],
   "source": [
    "def scrape_profile(url):\n",
    "    # Set up Selenium Options\n",
    "    options = Options()\n",
    "    options.headless = True # Run the Browser in headless mode\n",
    "\n",
    "    # Set up the Selenium Chrome Driver\n",
    "    service = Service(ChromeDriverManager().install())\n",
    "    driver = webdriver.Chrome(service=service, options=options)\n",
    "\n",
    "    # Open the Twitter Profile url\n",
    "    driver.get(url)\n",
    "    time.sleep(2) # Wait for the page to load\n",
    "\n",
    "    # Extract the required details\n",
    "    try:\n",
    "        username = driver.find_element(By.XPATH, \"//div[@data-testid='UserName']\")\n",
    "    except NoSuchElementException:\n",
    "        username = None\n",
    "    try:\n",
    "        bio = driver.find_element(By.XPATH, \"//div[@data-testid='UserDescription']\")\n",
    "    except NoSuchElementException:\n",
    "        bio = None\n",
    "    try:\n",
    "        following_count = driver.find_element(By.XPATH, \"//a[contains(@href,'/following')]//span[1]\")\n",
    "    except NoSuchElementException:\n",
    "        following_count = None\n",
    "    try:\n",
    "        followers_count = driver.find_element(By.XPATH, \"//a[contains(@href,'/followers')]//span[1]\")\n",
    "    except NoSuchElementException:\n",
    "        followers_count = None\n",
    "    try:\n",
    "        location = driver.find_element(By.XPATH, \"//span[@data-testid='UserLocation']\")\n",
    "    except NoSuchElementException:\n",
    "        location = None\n",
    "    try:\n",
    "        website = driver.find_element(By.XPATH, \"//a[@data-testid='UserUrl']\")\n",
    "    except NoSuchElementException:\n",
    "        website = None\n",
    "    \n",
    "    print(username.text if username else 'N/A')\n",
    "            \n",
    "    # Calling insert_data_into_sql function to insert scraped data into SQL Database\n",
    "    insert_data_into_sql(username.text if username else 'N/A',\n",
    "                         bio.text if bio else 'N/A',\n",
    "                         following_count.text if following_count else 'N/A',\n",
    "                         followers_count.text if followers_count else 'N/A',\n",
    "                         location.text if location else 'N/A',\n",
    "                         website.text if website else 'N/A')\n",
    "    \n",
    "    # Close the Selenium Chrome Driver\n",
    "    driver.quit()"
   ]
  },
  {
   "cell_type": "code",
   "execution_count": 3,
   "id": "8a813077",
   "metadata": {},
   "outputs": [],
   "source": [
    "def insert_data_into_sql(username, bio, following_count, followers_count, location, website):\n",
    "    try:\n",
    "        # Connect to the MySQL server\n",
    "        db = mysql.connector.connect(host = \"127.0.0.1\",\n",
    "                                     user = \"root\",\n",
    "                                     password = \"root\",\n",
    "                                     database = \"profiles\")\n",
    "        mycursor = db.cursor()\n",
    "        # Prepare the sql query to insert the data\n",
    "        query = \"INSERT INTO twitter_profiles (username, bio, following_count, followers_count, location, website) VALUES (%s, %s, %s, %s, %s, %s)\"\n",
    "        values = (username, bio, following_count, followers_count, location, website)\n",
    "\n",
    "        # Execute the SQL Query\n",
    "        mycursor.execute(query, values)\n",
    "        \n",
    "        # Commit the changes to the database\n",
    "        db.commit()\n",
    "\n",
    "        # Close the cursor and database connection\n",
    "        mycursor.close()\n",
    "        db.close()\n",
    "\n",
    "    except Error:\n",
    "        print(Error, \"encountered during inserting data into SQL Database\")     "
   ]
  },
  {
   "cell_type": "code",
   "execution_count": 4,
   "id": "0196d14e",
   "metadata": {
    "scrolled": false
   },
   "outputs": [],
   "source": [
    "# Connect to the MySQL server\n",
    "db = mysql.connector.connect(\n",
    "    host = \"127.0.0.1\",\n",
    "    user = \"root\",\n",
    "    password = \"root\"\n",
    ")\n",
    "mycursor = db.cursor()\n",
    "\n",
    "# Create the profiles database if it doesn't exist\n",
    "mycursor.execute(\"CREATE DATABASE IF NOT EXISTS profiles\")"
   ]
  },
  {
   "cell_type": "code",
   "execution_count": 5,
   "id": "a427dc65",
   "metadata": {
    "scrolled": true
   },
   "outputs": [],
   "source": [
    "# Connect to the profiles database\n",
    "db = mysql.connector.connect(\n",
    "    host = \"127.0.0.1\",\n",
    "    user = \"root\",\n",
    "    password = \"root\",\n",
    "    database = \"profiles\"\n",
    ")\n",
    "mycursor = db.cursor()"
   ]
  },
  {
   "cell_type": "code",
   "execution_count": 6,
   "id": "e53c62db",
   "metadata": {
    "scrolled": true
   },
   "outputs": [],
   "source": [
    "# Create the table to store the Twitter profiles data\n",
    "query = \"CREATE TABLE twitter_profiles (username VARCHAR(50), bio TEXT, following_count VARCHAR(10), followers_count VARCHAR(10), location VARCHAR(50), website VARCHAR(100))\"\n",
    "mycursor.execute(query)"
   ]
  },
  {
   "cell_type": "code",
   "execution_count": 7,
   "id": "e83e4693",
   "metadata": {},
   "outputs": [
    {
     "name": "stderr",
     "output_type": "stream",
     "text": [
      "C:\\Users\\akash\\AppData\\Local\\Temp\\ipykernel_29752\\3570449315.py:4: DeprecationWarning: headless property is deprecated, instead use add_argument('--headless') or add_argument('--headless=new')\n",
      "  options.headless = True # Run the Browser in headless mode\n"
     ]
    },
    {
     "name": "stdout",
     "output_type": "stream",
     "text": [
      "GTN UK\n",
      "@GTNUK1\n",
      "WhatsApp\n",
      "@WhatsApp\n",
      "A & A Customs Broker\n",
      "@aacb_CBPTrade\n",
      "A&A Customs Brokers\n",
      "@aacbdotcom\n",
      "A&A Window Products\n",
      "@AAWindowPRODUCT\n",
      "A & B Kia\n",
      "@AandB_Kia\n",
      "A&B Home\n",
      "@ABHomeInc\n",
      "A & B Reprographics\n",
      "@Abrepro\n",
      "N/A\n",
      "A & C CHRISTOFI LTD\n",
      "@ACChristofiLtd\n",
      "A&E Clothing\n",
      "@aeclothing1\n",
      "N/A\n",
      "A & E Technologies\n",
      "@AETechnologies1\n",
      "Wix\n",
      "@Wix\n",
      "A & G Insurance LLC\n",
      "@AGInsuranceLLC\n"
     ]
    }
   ],
   "source": [
    "# Reading the Twitter URLs from a CSV file:\n",
    "df = pd.read_csv('twitter_links.csv', header=None)\n",
    "twitter_urls = df[0]\n",
    "\n",
    "# Scraping the profiles by calling scrape_profile function\n",
    "for url in twitter_urls:\n",
    "    scrape_profile(url)"
   ]
  },
  {
   "cell_type": "code",
   "execution_count": null,
   "id": "74dd8771",
   "metadata": {},
   "outputs": [],
   "source": []
  }
 ],
 "metadata": {
  "kernelspec": {
   "display_name": "Python 3 (ipykernel)",
   "language": "python",
   "name": "python3"
  },
  "language_info": {
   "codemirror_mode": {
    "name": "ipython",
    "version": 3
   },
   "file_extension": ".py",
   "mimetype": "text/x-python",
   "name": "python",
   "nbconvert_exporter": "python",
   "pygments_lexer": "ipython3",
   "version": "3.10.11"
  }
 },
 "nbformat": 4,
 "nbformat_minor": 5
}
